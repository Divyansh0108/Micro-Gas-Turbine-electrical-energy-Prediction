{
 "cells": [
  {
   "cell_type": "code",
   "execution_count": 14,
   "metadata": {},
   "outputs": [],
   "source": [
    "import os\n",
    "import pandas as pd\n",
    "\n",
    "# Define the directory where the Excel files are stored\n",
    "folder_path = r'Dataset\\train'"
   ]
  },
  {
   "cell_type": "code",
   "execution_count": 15,
   "metadata": {},
   "outputs": [],
   "source": [
    "dataframes = []\n"
   ]
  },
  {
   "cell_type": "code",
   "execution_count": 33,
   "metadata": {},
   "outputs": [
    {
     "name": "stdout",
     "output_type": "stream",
     "text": [
      "ex_1.csv:\n",
      "Time range: 810.07028 to 10720.65858\n",
      "Number of rows: 9920\n",
      "Time step: 1.00\n",
      "\n",
      "ex_20.csv:\n",
      "Time range: 849.22 to 7824.0\n",
      "Number of rows: 6495\n",
      "Time step: 1.00\n",
      "\n",
      "ex_21.csv:\n",
      "Time range: 847.72 to 7776.6\n",
      "Number of rows: 6495\n",
      "Time step: 1.00\n",
      "\n",
      "ex_24.csv:\n",
      "Time range: 811.04 to 10579.6\n",
      "Number of rows: 9023\n",
      "Time step: 1.00\n",
      "\n",
      "ex_9.csv:\n",
      "Time range: 818.84 to 12636.84\n",
      "Number of rows: 11819\n",
      "Time step: 1.00\n",
      "\n",
      "ex_23.csv:\n",
      "Time range: 810.0 to 10954.52\n",
      "Number of rows: 9188\n",
      "Time step: 1.00\n",
      "\n",
      "Total number of rows across all datasets: 52940\n",
      "Target number of rows: 71225\n",
      "Missing rows: 18285\n"
     ]
    }
   ],
   "source": [
    "\n",
    "# Folder where your CSV files are stored\n",
    "folder_path = 'Dataset/train'\n",
    "\n",
    "# List of CSV files (only filenames, not full paths)\n",
    "files = ['ex_1.csv', 'ex_20.csv', 'ex_21.csv', 'ex_24.csv', 'ex_9.csv', 'ex_23.csv']\n",
    "dataframes = {}\n",
    "\n",
    "# Loop through each file and read it into a dataframe\n",
    "for file in files:\n",
    "    file_path = os.path.join(folder_path, file)  # Create the full path to the file\n",
    "    df = pd.read_csv(file_path, encoding='ascii')  # Use the full file path\n",
    "    dataframes[file] = df  # Add dataframe to the dictionary\n",
    "    \n",
    "    # Convert 'time' column to numeric (if it's not already)\n",
    "    df['time'] = pd.to_numeric(df['time'], errors='coerce')\n",
    "    \n",
    "    # Print information about each dataframe\n",
    "    print(f\"{file}:\")\n",
    "    print(f\"Time range: {df['time'].min()} to {df['time'].max()}\")\n",
    "    print(f\"Number of rows: {len(df)}\")\n",
    "    \n",
    "    # Ensure there's no missing data in 'time' before calculating step\n",
    "    if df['time'].isna().sum() == 0:\n",
    "        print(f\"Time step: {df['time'].diff().mode().values[0]:.2f}\")\n",
    "    else:\n",
    "        print(\"Warning: There are missing values in the 'time' column. Time step calculation skipped.\")\n",
    "    \n",
    "    print()\n",
    "\n",
    "# Calculate total number of rows\n",
    "total_rows = sum(len(df) for df in dataframes.values())\n",
    "print(f\"Total number of rows across all datasets: {total_rows}\")\n",
    "print(f\"Target number of rows: 71225\")\n",
    "print(f\"Missing rows: {71225 - total_rows}\")\n"
   ]
  },
  {
   "cell_type": "code",
   "execution_count": 34,
   "metadata": {},
   "outputs": [],
   "source": [
    "# Find the overall time range\n",
    "min_time = min(df['time'].min() for df in dataframes.values())\n",
    "max_time = max(df['time'].max() for df in dataframes.values())"
   ]
  },
  {
   "cell_type": "code",
   "execution_count": 36,
   "metadata": {},
   "outputs": [],
   "source": [
    "# Create a complete time series\n",
    "import numpy as np\n",
    "\n",
    "full_time_series = np.arange(min_time, max_time + 1, 1)\n"
   ]
  },
  {
   "cell_type": "code",
   "execution_count": 37,
   "metadata": {},
   "outputs": [],
   "source": [
    "\n",
    "# Merge all dataframes\n",
    "merged_df = pd.DataFrame({'time': full_time_series})\n",
    "for file, df in dataframes.items():\n",
    "    merged_df = pd.merge(merged_df, df, on='time', how='left', suffixes=('', f'_{file}'))\n"
   ]
  },
  {
   "cell_type": "code",
   "execution_count": 38,
   "metadata": {},
   "outputs": [
    {
     "name": "stdout",
     "output_type": "stream",
     "text": [
      "Shape of merged dataframe after filling missing values: (11828, 13)\n",
      "First few rows of the merged dataframe:\n",
      "    time  input_voltage  el_power  input_voltage_ex_20.csv  el_power_ex_20.csv  input_voltage_ex_21.csv  el_power_ex_21.csv  input_voltage_ex_24.csv  el_power_ex_24.csv  input_voltage_ex_9.csv  el_power_ex_9.csv  input_voltage_ex_23.csv  el_power_ex_23.csv\n",
      "0  810.0            NaN       NaN                      NaN                 NaN                      NaN                 NaN                      NaN                 NaN                     NaN                NaN                      3.0         1102.949693\n",
      "1  811.0            NaN       NaN                      NaN                 NaN                      NaN                 NaN                      NaN                 NaN                     NaN                NaN                      3.0         1103.352691\n",
      "2  812.0            NaN       NaN                      NaN                 NaN                      NaN                 NaN                      NaN                 NaN                     NaN                NaN                      3.0         1103.755688\n",
      "3  813.0            NaN       NaN                      NaN                 NaN                      NaN                 NaN                      NaN                 NaN                     NaN                NaN                      3.0         1104.158685\n",
      "4  814.0            NaN       NaN                      NaN                 NaN                      NaN                 NaN                      NaN                 NaN                     NaN                NaN                      3.0         1104.561682\n",
      "Last few rows of the merged dataframe:\n",
      "          time  input_voltage  el_power  input_voltage_ex_20.csv  el_power_ex_20.csv  input_voltage_ex_21.csv  el_power_ex_21.csv  input_voltage_ex_24.csv  el_power_ex_24.csv  input_voltage_ex_9.csv  el_power_ex_9.csv  input_voltage_ex_23.csv  el_power_ex_23.csv\n",
      "11823  12633.0            NaN       NaN                      3.0         1120.801636                      3.0         1072.098826                      3.0         1173.947445                     NaN                NaN                      3.0         1183.028669\n",
      "11824  12634.0            NaN       NaN                      3.0         1120.801636                      3.0         1072.098826                      3.0         1173.947445                     NaN                NaN                      3.0         1183.028669\n",
      "11825  12635.0            NaN       NaN                      3.0         1120.801636                      3.0         1072.098826                      3.0         1173.947445                     NaN                NaN                      3.0         1183.028669\n",
      "11826  12636.0            NaN       NaN                      3.0         1120.801636                      3.0         1072.098826                      3.0         1173.947445                     NaN                NaN                      3.0         1183.028669\n",
      "11827  12637.0            NaN       NaN                      3.0         1120.801636                      3.0         1072.098826                      3.0         1173.947445                     NaN                NaN                      3.0         1183.028669\n",
      "Merged dataset with filled values saved as 'merged_dataset_filled.csv'\n"
     ]
    },
    {
     "name": "stderr",
     "output_type": "stream",
     "text": [
      "C:\\Users\\Trisha\\AppData\\Local\\Temp\\ipykernel_17432\\2201343337.py:3: FutureWarning: DataFrame.fillna with 'method' is deprecated and will raise in a future version. Use obj.ffill() or obj.bfill() instead.\n",
      "  merged_df.fillna(method='ffill', inplace=True)\n"
     ]
    }
   ],
   "source": [
    "# Fill missing values with interpolation or forward fill\n",
    "merged_df.interpolate(method='linear', inplace=True)\n",
    "merged_df.fillna(method='ffill', inplace=True)\n",
    "\n",
    "print(f\"Shape of merged dataframe after filling missing values: {merged_df.shape}\")\n",
    "print(\"\\\n",
    "First few rows of the merged dataframe:\")\n",
    "print(merged_df.head().to_string())\n",
    "print(\"\\\n",
    "Last few rows of the merged dataframe:\")\n",
    "print(merged_df.tail().to_string())\n",
    "\n",
    "# Save the merged dataframe\n",
    "merged_df.to_csv('merged_dataset_filled.csv', index=False)\n",
    "print(\"\\\n",
    "Merged dataset with filled values saved as 'merged_dataset_filled.csv'\")"
   ]
  },
  {
   "cell_type": "code",
   "execution_count": null,
   "metadata": {},
   "outputs": [],
   "source": []
  }
 ],
 "metadata": {
  "kernelspec": {
   "display_name": "venv",
   "language": "python",
   "name": "python3"
  },
  "language_info": {
   "codemirror_mode": {
    "name": "ipython",
    "version": 3
   },
   "file_extension": ".py",
   "mimetype": "text/x-python",
   "name": "python",
   "nbconvert_exporter": "python",
   "pygments_lexer": "ipython3",
   "version": "3.12.6"
  }
 },
 "nbformat": 4,
 "nbformat_minor": 2
}
