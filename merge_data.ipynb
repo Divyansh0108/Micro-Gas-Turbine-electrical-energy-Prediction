{
 "cells": [
  {
   "cell_type": "code",
   "execution_count": 14,
   "metadata": {},
   "outputs": [],
   "source": [
    "import os\n",
    "import pandas as pd\n",
    "\n",
    "# Define the directory where the Excel files are stored\n",
    "folder_path = r'Dataset\\train'"
   ]
  },
  {
   "cell_type": "code",
   "execution_count": 15,
   "metadata": {},
   "outputs": [],
   "source": [
    "dataframes = []\n"
   ]
  },
  {
   "cell_type": "code",
   "execution_count": 33,
   "metadata": {},
   "outputs": [
    {
     "name": "stdout",
     "output_type": "stream",
     "text": [
      "ex_1.csv:\n",
      "Time range: 810.07028 to 10720.65858\n",
      "Number of rows: 9920\n",
      "Time step: 1.00\n",
      "\n",
      "ex_20.csv:\n",
      "Time range: 849.22 to 7824.0\n",
      "Number of rows: 6495\n",
      "Time step: 1.00\n",
      "\n",
      "ex_21.csv:\n",
      "Time range: 847.72 to 7776.6\n",
      "Number of rows: 6495\n",
      "Time step: 1.00\n",
      "\n",
      "ex_24.csv:\n",
      "Time range: 811.04 to 10579.6\n",
      "Number of rows: 9023\n",
      "Time step: 1.00\n",
      "\n",
      "ex_9.csv:\n",
      "Time range: 818.84 to 12636.84\n",
      "Number of rows: 11819\n",
      "Time step: 1.00\n",
      "\n",
      "ex_23.csv:\n",
      "Time range: 810.0 to 10954.52\n",
      "Number of rows: 9188\n",
      "Time step: 1.00\n",
      "\n",
      "Total number of rows across all datasets: 52940\n",
      "Target number of rows: 71225\n",
      "Missing rows: 18285\n"
     ]
    }
   ],
   "source": [
    "\n",
    "# Folder where your CSV files are stored\n",
    "folder_path = 'Dataset/train'\n",
    "\n",
    "# List of CSV files (only filenames, not full paths)\n",
    "files = ['ex_1.csv', 'ex_20.csv', 'ex_21.csv', 'ex_24.csv', 'ex_9.csv', 'ex_23.csv']\n",
    "dataframes = {}\n",
    "\n",
    "# Loop through each file and read it into a dataframe\n",
    "for file in files:\n",
    "    file_path = os.path.join(folder_path, file)  # Create the full path to the file\n",
    "    df = pd.read_csv(file_path, encoding='ascii')  # Use the full file path\n",
    "    dataframes[file] = df  # Add dataframe to the dictionary\n",
    "    \n",
    "    # Convert 'time' column to numeric (if it's not already)\n",
    "    df['time'] = pd.to_numeric(df['time'], errors='coerce')\n",
    "    \n",
    "    # Print information about each dataframe\n",
    "    print(f\"{file}:\")\n",
    "    print(f\"Time range: {df['time'].min()} to {df['time'].max()}\")\n",
    "    print(f\"Number of rows: {len(df)}\")\n",
    "    \n",
    "    # Ensure there's no missing data in 'time' before calculating step\n",
    "    if df['time'].isna().sum() == 0:\n",
    "        print(f\"Time step: {df['time'].diff().mode().values[0]:.2f}\")\n",
    "    else:\n",
    "        print(\"Warning: There are missing values in the 'time' column. Time step calculation skipped.\")\n",
    "    \n",
    "    print()\n",
    "\n",
    "# Calculate total number of rows\n",
    "total_rows = sum(len(df) for df in dataframes.values())\n",
    "print(f\"Total number of rows across all datasets: {total_rows}\")\n",
    "print(f\"Target number of rows: 71225\")\n",
    "print(f\"Missing rows: {71225 - total_rows}\")\n"
   ]
  },
  {
   "cell_type": "code",
   "execution_count": 56,
   "metadata": {},
   "outputs": [
    {
     "name": "stdout",
     "output_type": "stream",
     "text": [
      "Shape of merged DataFrame: (51706, 3)\n",
      "        time input_voltage el_power\n",
      "0  810.07028          None     None\n",
      "1  811.06938          None     None\n",
      "2  812.06848          None     None\n",
      "3  813.06758          None     None\n",
      "4  814.06668          None     None\n"
     ]
    }
   ],
   "source": [
    "import os\n",
    "import pandas as pd\n",
    "\n",
    "# Folder where your CSV files are stored\n",
    "folder_path = 'Dataset/train'\n",
    "\n",
    "# List of CSV files (only filenames, not full paths)\n",
    "files = ['ex_1.csv', 'ex_20.csv', 'ex_21.csv', 'ex_24.csv', 'ex_9.csv', 'ex_23.csv']\n",
    "dataframes = []\n",
    "\n",
    "# Step 1: Load datasets into DataFrames\n",
    "for file in files:\n",
    "    file_path = os.path.join(folder_path, file)  # Create the full path to the file\n",
    "    df = pd.read_csv(file_path, encoding='ascii')  # Read the CSV file\n",
    "    df['time'] = pd.to_numeric(df['time'], errors='coerce')  # Ensure 'time' is numeric\n",
    "    \n",
    "    # Add the DataFrame to the list\n",
    "    dataframes.append(df)\n",
    "\n",
    "# Step 2: Create a complete time series covering the expected range\n",
    "full_time_series = pd.concat([df['time'] for df in dataframes]).dropna().unique()\n",
    "\n",
    "# Step 3: Initialize a DataFrame for merged results\n",
    "merged_df = pd.DataFrame({'time': full_time_series})\n",
    "\n",
    "# Step 4: Merge all DataFrames into the merged_df based on 'time'\n",
    "for df in dataframes:\n",
    "    # Ensure that only the columns we want to merge are considered\n",
    "    relevant_columns = df.columns[df.columns != 'time']  \n",
    "    # Set the 'time' column as the index for the current DataFrame\n",
    "    df.set_index('time', inplace=True)\n",
    "\n",
    "    # For each relevant column, initialize it in merged_df if not already present\n",
    "    for column in relevant_columns:\n",
    "        # Check if the column already exists in merged_df; if not, initialize it\n",
    "        if column not in merged_df.columns:\n",
    "            merged_df[column] = None  # Create the column if it doesn't exist\n",
    "        merged_df[column] = merged_df[column].combine_first(df[column])\n",
    "\n",
    "# Step 5: Check the shape of the merged DataFrame\n",
    "print(\"Shape of merged DataFrame:\", merged_df.shape)\n",
    "\n",
    "# Step 6: Display the first few rows of the merged DataFrame\n",
    "print(merged_df.head())\n",
    "\n",
    "# Optional: Save the merged DataFrame to a CSV file\n",
    "merged_df.to_csv('merged_dataset.csv', index=False)\n"
   ]
  },
  {
   "cell_type": "code",
   "execution_count": 57,
   "metadata": {},
   "outputs": [
    {
     "name": "stdout",
     "output_type": "stream",
     "text": [
      "input_voltage    float64\n",
      "el_power         float64\n",
      "dtype: object\n"
     ]
    }
   ],
   "source": [
    "print(df.dtypes)"
   ]
  }
 ],
 "metadata": {
  "kernelspec": {
   "display_name": "venv",
   "language": "python",
   "name": "python3"
  },
  "language_info": {
   "codemirror_mode": {
    "name": "ipython",
    "version": 3
   },
   "file_extension": ".py",
   "mimetype": "text/x-python",
   "name": "python",
   "nbconvert_exporter": "python",
   "pygments_lexer": "ipython3",
   "version": "3.12.6"
  }
 },
 "nbformat": 4,
 "nbformat_minor": 2
}
